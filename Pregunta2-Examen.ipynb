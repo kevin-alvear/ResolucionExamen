{
 "cells": [
  {
   "cell_type": "markdown",
   "metadata": {},
   "source": [
    "x^"
   ]
  },
  {
   "cell_type": "code",
   "execution_count": 2,
   "metadata": {},
   "outputs": [
    {
     "name": "stdout",
     "output_type": "stream",
     "text": [
      "x1 = -2.0000000000\n",
      "x2 = -2.0000000000\n",
      "x3 = 0.9999938349\n",
      "x4 = 1.0000081704\n",
      "x5 = 5.0000000000\n",
      "x6 = 5.0000000000\n"
     ]
    }
   ],
   "source": [
    "import numpy as np\n",
    "from scipy import optimize\n",
    "\n",
    "def polinomio(x):\n",
    "    return x**5 - 6*x**4 + 2*x**3 + 20*x**2 - 27*x + 10\n",
    "\n",
    "# Encontrar intervalos donde pueden haber raíces\n",
    "x = np.linspace(-10, 10, 1000)\n",
    "y = polinomio(x)\n",
    "cambios_signo = np.where(np.diff(np.sign(y)))[0]\n",
    "\n",
    "raices = []\n",
    "\n",
    "for i in cambios_signo:\n",
    "    a, b = x[i], x[i+1]\n",
    "    try:\n",
    "        raiz = optimize.brentq(polinomio, a, b)\n",
    "        raices.append(raiz)\n",
    "    except:\n",
    "        pass\n",
    "\n",
    "# Intentar encontrar raíces complejas\n",
    "coeficientes = [1, -6, 2, 20, -27, 10]\n",
    "raices_complejas = np.roots(coeficientes)\n",
    "\n",
    "# Filtrar raíces reales únicas\n",
    "raices_reales = [r.real for r in raices_complejas if abs(r.imag) < 1e-10 and r.real not in raices]\n",
    "raices.extend(raices_reales)\n",
    "\n",
    "# Ordenar raíces\n",
    "raices.sort()\n",
    "\n",
    "# Imprimir raíces\n",
    "for i, raiz in enumerate(raices, 1):\n",
    "    print(f\"x{i} = {raiz:.10f}\")\n",
    "\n",
    "# Rellenar con NaN si hay menos raíces\n",
    "for i in range(len(raices)+1, 7):\n",
    "    print(f\"x{i} = NaN\")"
   ]
  }
 ],
 "metadata": {
  "kernelspec": {
   "display_name": "Python 3",
   "language": "python",
   "name": "python3"
  },
  "language_info": {
   "codemirror_mode": {
    "name": "ipython",
    "version": 3
   },
   "file_extension": ".py",
   "mimetype": "text/x-python",
   "name": "python",
   "nbconvert_exporter": "python",
   "pygments_lexer": "ipython3",
   "version": "3.11.9"
  }
 },
 "nbformat": 4,
 "nbformat_minor": 2
}
